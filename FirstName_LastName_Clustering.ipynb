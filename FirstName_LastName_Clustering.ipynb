{
 "cells": [
  {
   "cell_type": "code",
   "execution_count": 1,
   "id": "e85e837c",
   "metadata": {},
   "outputs": [
    {
     "ename": "NameError",
     "evalue": "name 'scaled_features' is not defined",
     "output_type": "error",
     "traceback": [
      "\u001b[1;31m---------------------------------------------------------------------------\u001b[0m",
      "\u001b[1;31mNameError\u001b[0m                                 Traceback (most recent call last)",
      "Cell \u001b[1;32mIn[1], line 6\u001b[0m\n\u001b[0;32m      4\u001b[0m \u001b[38;5;66;03m# Use features from Task 2\u001b[39;00m\n\u001b[0;32m      5\u001b[0m kmeans \u001b[38;5;241m=\u001b[39m KMeans(n_clusters\u001b[38;5;241m=\u001b[39m\u001b[38;5;241m4\u001b[39m, random_state\u001b[38;5;241m=\u001b[39m\u001b[38;5;241m42\u001b[39m)\n\u001b[1;32m----> 6\u001b[0m clusters \u001b[38;5;241m=\u001b[39m kmeans\u001b[38;5;241m.\u001b[39mfit_predict(\u001b[43mscaled_features\u001b[49m)\n\u001b[0;32m      8\u001b[0m \u001b[38;5;66;03m# Metrics\u001b[39;00m\n\u001b[0;32m      9\u001b[0m db_score \u001b[38;5;241m=\u001b[39m davies_bouldin_score(scaled_features, clusters)\n",
      "\u001b[1;31mNameError\u001b[0m: name 'scaled_features' is not defined"
     ]
    }
   ],
   "source": [
    "import pandas as pd\n",
    "import matplotlib.pyplot as plt\n",
    "from sklearn.cluster import KMeans\n",
    "from sklearn.metrics import davies_bouldin_score, silhouette_score\n",
    "from sklearn.preprocessing import StandardScaler\n",
    "\n",
    "# Load preprocessed customer features from Task 2\n",
    "customer_features = pd.read_csv(\"customer_features.csv\")  # Saved from Task 2\n",
    "processed_features = pd.read_csv(\"processed_features.csv\")  # Saved from preprocessing\n",
    "\n",
    "# Determine Optimal Clusters (Elbow Method)\n",
    "wcss = []\n",
    "for i in range(2, 11):\n",
    "    kmeans = KMeans(n_clusters=i, random_state=42)\n",
    "    kmeans.fit(processed_features)\n",
    "    wcss.append(kmeans.inertia_)\n",
    "\n",
    "plt.figure(figsize=(10, 6))\n",
    "plt.plot(range(2, 11), wcss, marker='o', linestyle='--')\n",
    "plt.xlabel('Number of Clusters')\n",
    "plt.ylabel('WCSS (Inertia)')\n",
    "plt.title('Elbow Method for Optimal Clusters')\n",
    "plt.show()\n",
    "\n",
    "# Fit Final Model (Choose n_clusters=4 based on Elbow)\n",
    "kmeans = KMeans(n_clusters=4, random_state=42)\n",
    "clusters = kmeans.fit_predict(processed_features)\n",
    "\n",
    "# Metrics\n",
    "db_score = davies_bouldin_score(processed_features, clusters)\n",
    "silhouette = silhouette_score(processed_features, clusters)\n",
    "print(f\"DB Index: {db_score:.2f}\")\n",
    "print(f\"Silhouette Score: {silhouette:.2f}\")\n",
    "\n",
    "# Visualize Clusters (PCA)\n",
    "from sklearn.decomposition import PCA\n",
    "pca = PCA(n_components=2)\n",
    "reduced_data = pca.fit_transform(processed_features)\n",
    "\n",
    "plt.figure(figsize=(10, 6))\n",
    "sns.scatterplot(x=reduced_data[:,0], y=reduced_data[:,1], hue=clusters, palette='viridis', s=100)\n",
    "plt.title('Customer Clusters (2D PCA Reduction)')\n",
    "plt.xlabel('PCA Component 1')\n",
    "plt.ylabel('PCA Component 2')\n",
    "plt.show()\n",
    "\n",
    "# Cluster Interpretation\n",
    "customer_features['Cluster'] = clusters\n",
    "cluster_summary = customer_features.groupby('Cluster').agg({\n",
    "    'TotalSpent': 'mean',\n",
    "    'Frequency': 'mean',\n",
    "    'Recency': 'mean',\n",
    "    'FavoriteCategory': lambda x: x.mode()[0],\n",
    "    'Region': lambda x: x.mode()[0]\n",
    "}).reset_index()\n",
    "print(\"\\n=== Cluster Summary ===\")\n",
    "print(cluster_summary)"
   ]
  },
  {
   "cell_type": "code",
   "execution_count": null,
   "id": "d1dc5fa5",
   "metadata": {},
   "outputs": [],
   "source": []
  }
 ],
 "metadata": {
  "kernelspec": {
   "display_name": "Python 3 (ipykernel)",
   "language": "python",
   "name": "python3"
  },
  "language_info": {
   "codemirror_mode": {
    "name": "ipython",
    "version": 3
   },
   "file_extension": ".py",
   "mimetype": "text/x-python",
   "name": "python",
   "nbconvert_exporter": "python",
   "pygments_lexer": "ipython3",
   "version": "3.9.0"
  },
  "varInspector": {
   "cols": {
    "lenName": 16,
    "lenType": 16,
    "lenVar": 40
   },
   "kernels_config": {
    "python": {
     "delete_cmd_postfix": "",
     "delete_cmd_prefix": "del ",
     "library": "var_list.py",
     "varRefreshCmd": "print(var_dic_list())"
    },
    "r": {
     "delete_cmd_postfix": ") ",
     "delete_cmd_prefix": "rm(",
     "library": "var_list.r",
     "varRefreshCmd": "cat(var_dic_list()) "
    }
   },
   "types_to_exclude": [
    "module",
    "function",
    "builtin_function_or_method",
    "instance",
    "_Feature"
   ],
   "window_display": false
  }
 },
 "nbformat": 4,
 "nbformat_minor": 5
}
